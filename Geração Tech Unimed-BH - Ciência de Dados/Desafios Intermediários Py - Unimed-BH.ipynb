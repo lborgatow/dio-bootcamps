{
 "cells": [
  {
   "cell_type": "markdown",
   "id": "0fc6e573",
   "metadata": {},
   "source": [
    "# Desafio 1 - Alfabeto\n",
    "\n",
    "Dada a letra N do alfabeto, nos diga qual a sua posição.\n",
    "\n",
    "## Entrada\n",
    "\n",
    "Um único caracter **N**, uma letra maiúscula ('A'-'Z') do alfabeto (que contém 26 letras).\n",
    "\n",
    "## Saída\n",
    "\n",
    "Um único inteiro, que representa a posição da letra no alfabeto.\n",
    "\n",
    "=========================================================================================================================\n",
    "\n",
    "### Exemplos de entrada\n",
    "**Caso 1** --> C\\\n",
    "**Caso 2** --> J\\\n",
    "**Caso 3** --> Z\\\n",
    "**Caso 4** --> A\n",
    "           \n",
    "### Exemplos de saída\n",
    "**Caso 1** --> 3\\\n",
    "**Caso 2** --> 10\\\n",
    "**Caso 3** --> 26\\\n",
    "**Caso 4** --> 1\t"
   ]
  },
  {
   "cell_type": "code",
   "execution_count": 1,
   "id": "104e231c",
   "metadata": {},
   "outputs": [
    {
     "name": "stdout",
     "output_type": "stream",
     "text": [
      "c\n",
      "3\n"
     ]
    }
   ],
   "source": [
    "letra = input()\n",
    "\n",
    "alfabeto = [chr(letra_alfabeto) for letra_alfabeto in range(ord('A'), ord('Z')+1)]\n",
    "\n",
    "print(alfabeto.index(letra.upper()) + 1)"
   ]
  },
  {
   "cell_type": "markdown",
   "id": "c9242856",
   "metadata": {},
   "source": [
    "# Desafio 2 - Papagaio Poliglota\n",
    "\n",
    "Humberto tem um papagaio muito esperto. Quando está com as duas pernas no chão, o papagaio fala em português. Quando levanta a perna esquerda, fala em inglês. Por fim, quando levanta a direita fala em francês. Nico, amigo de Humberto, ficou fascinado com o animal. Em sua emoção perguntou: “E quando ele levanta as duas?”. Antes que Humberto pudesse responder, o papagaio gritou: “Aí eu caio, idiota!”.\n",
    "\n",
    "## Entrada\n",
    "\n",
    "A entrada consiste de diversos casos de teste. Cada caso de teste consiste uma string informando qual a situação de levantamento de pernas do papagaio.\n",
    "\n",
    "## Saída\n",
    "\n",
    "Para cada condição de levantamento de pernas do papagaio, imprima a linguagem que ele utilizará. Caso ele levante ambas as pernas, imprima “caiu”. Quebre uma linha a cada caso de teste.\n",
    "\n",
    "=========================================================================================================================\n",
    "\n",
    "### Exemplos de entrada\n",
    "**Caso 1** --> esquerda\\\n",
    "**Caso 2** --> direita\\\n",
    "**Caso 3** --> nenhuma\\\n",
    "**Caso 4** --> ambas\n",
    "           \n",
    "### Exemplos de saída\n",
    "**Caso 1** --> ingles\\\n",
    "**Caso 2** --> frances\\\n",
    "**Caso 3** --> portugues\\\n",
    "**Caso 4** --> caiu\t"
   ]
  },
  {
   "cell_type": "code",
   "execution_count": 2,
   "id": "b9fc7aea",
   "metadata": {},
   "outputs": [
    {
     "name": "stdout",
     "output_type": "stream",
     "text": [
      "esquerda\n",
      "ingles\n",
      "\n",
      "direita\n",
      "frances\n",
      "\n",
      "nenhuma\n",
      "portugues\n",
      "\n",
      "ambas\n",
      "caiu\n",
      "\n",
      "quit\n"
     ]
    }
   ],
   "source": [
    "active = True\n",
    "while active: \n",
    "    try: \n",
    "        entrada = input()\n",
    "        \n",
    "        if entrada == 'esquerda':\n",
    "          print('ingles\\n')\n",
    "        elif entrada == 'direita':\n",
    "          print('frances\\n')\n",
    "        elif entrada == 'nenhuma':\n",
    "          print('portugues\\n')\n",
    "        elif entrada == 'ambas':\n",
    "          print('caiu\\n')\n",
    "        else:\n",
    "            active = False\n",
    "    except EOFError: \n",
    "        break"
   ]
  },
  {
   "cell_type": "markdown",
   "id": "b7aece34",
   "metadata": {},
   "source": [
    "# Desafio 2 - Aumento Salarial\n",
    "\n",
    "A empresa que você trabalha resolveu conceder um aumento salarial a todos funcionários, de acordo com a tabela abaixo:\n",
    "\n",
    "###  Salário --> Reajuste\n",
    "0 - 600.00        --> 17%\\\n",
    "600.01 - 900.00   --> 13%\\\n",
    "900.01 - 1500.00  --> 12%\\\n",
    "1500.01 - 2000.00 --> 10%\\\n",
    "Acima de 2000.00  -->  5%\n",
    "\n",
    "Leia o salário do funcionário e calcule e mostre o novo salário, bem como o valor de reajuste ganho e o índice reajustado, em percentual.\n",
    "\n",
    "A entrada contém apenas um valor de ponto flutuante, que pode ser maior ou igual a zero, com duas casas decimais, conforme exemplos abaixo.\n",
    "\n",
    "=========================================================================================================================\n",
    "\n",
    "### Exemplos de entrada\n",
    "**Caso 1** --> 1000\\\n",
    "**Caso 2** --> 2000\n",
    "           \n",
    "### Exemplos de saída\n",
    "**Caso 1** --> Novo salario: 1120.00\\\n",
    "               Reajuste ganho: 120.00\\\n",
    "               \\\n",
    "               Em percentual: 12 %\n",
    "               \n",
    "**Caso 2** --> Novo salario: 2200.00\\\n",
    "               Reajuste ganho: 200.00\\\n",
    "               \\\n",
    "               Em percentual: 10 %"
   ]
  },
  {
   "cell_type": "code",
   "execution_count": 3,
   "id": "0c5ad831",
   "metadata": {},
   "outputs": [
    {
     "name": "stdout",
     "output_type": "stream",
     "text": [
      "1000\n",
      "Novo salario: 1120.00\n",
      "Reajuste ganho: 120.00\n",
      "\n",
      "Em percentual: 12 %\n"
     ]
    }
   ],
   "source": [
    "salario = float(input())\n",
    "  \n",
    "if salario >= 0.00 and salario <= 600.00:\n",
    "  porcentagem_reajuste = 0.17\n",
    "  reajuste = salario * porcentagem_reajuste\n",
    "  novo_salario = salario + reajuste\n",
    "\n",
    "elif salario <= 900.00:\n",
    "  porcentagem_reajuste = 0.13\n",
    "  reajuste = salario * porcentagem_reajuste\n",
    "  novo_salario = salario + reajuste\n",
    "  \n",
    "elif salario <= 1500.00:\n",
    "  porcentagem_reajuste = 0.12\n",
    "  reajuste = salario * porcentagem_reajuste\n",
    "  novo_salario = salario + reajuste\n",
    "  \n",
    "elif salario <= 2000.00:\n",
    "  porcentagem_reajuste = 0.10\n",
    "  reajuste = salario * porcentagem_reajuste\n",
    "  novo_salario = salario + reajuste\n",
    "\n",
    "else:\n",
    "  porcentagem_reajuste = 0.05\n",
    "  reajuste = salario * porcentagem_reajuste\n",
    "  novo_salario = salario + reajuste\n",
    "\n",
    "print(f'Novo salario: {novo_salario:.2f}')\n",
    "print(f'Reajuste ganho: {reajuste:.2f}')\n",
    "print(f'\\nEm percentual: {int(porcentagem_reajuste * 100)} %')"
   ]
  }
 ],
 "metadata": {
  "kernelspec": {
   "display_name": "Python 3 (ipykernel)",
   "language": "python",
   "name": "python3"
  },
  "language_info": {
   "codemirror_mode": {
    "name": "ipython",
    "version": 3
   },
   "file_extension": ".py",
   "mimetype": "text/x-python",
   "name": "python",
   "nbconvert_exporter": "python",
   "pygments_lexer": "ipython3",
   "version": "3.9.12"
  }
 },
 "nbformat": 4,
 "nbformat_minor": 5
}
